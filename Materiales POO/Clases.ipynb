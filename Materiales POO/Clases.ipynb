{
 "cells": [
  {
   "cell_type": "markdown",
   "metadata": {},
   "source": [
    "# Clases en C ++\n",
    "Material Preparado por Francisco Sagasti\n",
    "\n",
    "Programacion 2, 2023, Cerp SW\n",
    "\n",
    "## Que es una clase? >> Atributos y Miembros\n",
    "Dentro de la POO aparece el concepto de clases: es un tipo de dato definido por el programador, el cual encapsula datos (miembros/atributos) y funciones que le dan comportamiento y manejo de datos (metodos). \n",
    "Cuando se crea una instancia a un tipo de dato definido, como \"int x\" se crea una variable de cierto tipo, en este caso es distinto, ya que una instancia de una clase es un objeto.\n",
    "\n",
    "## Clase Vs Struct\n",
    "Las clases son similares a una estructura, ya que ambos son colecciones de variables, solo que las clases \"evolucionan\" y contienen mencionadas funciones que manipulan los datos. \n",
    "Sin embargo, las clases tienen un concepto nuevo: acceso a miembro. Por defecto, los miembros son private (privados), asi, solo pueden ser accedidos y modificados dentro de la clase, como? mediante metodos, pero podemos mediante \"public:\" hacerlos publicos, y poder trabajar con ellos como si de una struct se tratase.\n",
    "\n",
    "## Constructores\n",
    "Hay una funcion miembro especial, llamada constructores, llamada de la misma manera que la clase, la cual nos permite inicializar los valores de los miembros de cierta manera (y no default). El programador es el encargado de crearlo.\n",
    "\n",
    "## Deconstructores\n",
    "Es un método especial que deconstruye-libera los recursos que son asignados al crear un objeto (instancia de clase). Con esto se puede reasignar y almacenar nuevos objetos. No recibe parametros y no devuelve nada, cada \"class\" solo tendrá un deconstructor.\n",
    "Se escriben con el signo ~\n",
    "\n",
    "## Metodo especial: friend\n",
    "Es un método que permite acceso a los miembros privados de una clase, asi podemos acceder a los metodos (por ejemplo). Este metodo rompe el encapsulamiento, esto en lenguajes donde haya un paradigma POO no existe: por ejemplo en C no existe tal método ya que no existen clases.\n",
    "Esta función no es miembro de la clase cuyos métodos quieren ser accedidos, sino de aquella que quiere acceder a los metodos de la otra.\n",
    "\n",
    "## Bibliografia\n",
    "[Deitel. \"Como Programar C/C++ y Java\".](https://www.waltercarnero.com/isft177/programacion1/Libros/deitel.pdf) \n",
    "[Funcion friend C++](https://learn.microsoft.com/es-es/cpp/cpp/friend-cpp?view=msvc-170) "
   ]
  },
  {
   "cell_type": "code",
   "execution_count": null,
   "metadata": {},
   "outputs": [],
   "source": [
    "class \"Nombre_Clase\"{\n",
    "    public:\n",
    "        //Declaracion de elementos (atributos y metodos) publicos\n",
    "\n",
    "    private:\n",
    "        //Declaracion de elementos (atributos y metodos) privados\n",
    "\n",
    "    //Declaracion de Constructor de la clase\n",
    "        Nombre_Clase(argumentos....){\n",
    "\n",
    "        }\n",
    "\n",
    "    //Declaracion de Deconstructor de la class\n",
    "    ~\"Nombre_Clase()\";\n",
    "\n",
    "};"
   ]
  }
 ],
 "metadata": {
  "language_info": {
   "name": "python"
  },
  "orig_nbformat": 4
 },
 "nbformat": 4,
 "nbformat_minor": 2
}
