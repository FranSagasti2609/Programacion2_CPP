{
 "cells": [
  {
   "cell_type": "markdown",
   "metadata": {},
   "source": [
    "# Grafos\n",
    "## Introducción\n",
    "(Matías Otte)\n",
    "\n",
    "Los grafos, como se estudian en matemática discreta según el libro de Grimaldi, son una estructura de datos esencial en informática que se emplea para representar relaciones entre elementos. En la terminología matemática, un grafo consiste en un conjunto de nodos y aristas que establecen conexiones entre estos nodos. Esta representación se asemeja a los conceptos fundamentales de teoría de grafos en matemática discreta.\n",
    "\n",
    "\n",
    "## Grafo como modelo de una realidad\n",
    "(Enzo González)\n",
    "Los grafos tienen una amplia variedad de aplicaciones, tanto en contextos cartográficos como en ámbitos matemáticos. Se utilizan para resolver problemas que involucran encontrar rutas de menor costo, como determinar la ruta que un taxi debe tomar para llevar a una persona a su destino. También se aplican en problemas relacionados con la coloración de mapas, como el teorema de los 4 colores, que busca asignar colores a regiones de un mapa de manera que regiones adyacentes no compartan el mismo color. Otro ejemplo matemático importante es el algoritmo de Floyd-Warshall, que se emplea para encontrar el camino más corto en grafos con etiquetas o pesos asociados a sus aristas.\n",
    "\n",
    "##  Vertice, Arista :: Grafo\n",
    "(Fran Sagasti)\n",
    " \n",
    "Un grafo es un conjunto finito no vacío de objetos relacionados entre sí. Un grafo está compuesto por dos elementos: \n",
    "* Los vertices (o nodos): Representan los objetos mencionados previamente\n",
    "* Aristas: Representan las relaciones que hay entre objetos.\n",
    "    Asi, podemos entender un grafo como un un par de elementos: $G = (V,A)$ ($V$ siendo el conjunto de vertices, $A$ conjunto de aristas)\n",
    "\n",
    "\n",
    "# Definición matemática de Grafos\n",
    "(María Noel González)\n",
    "\n",
    "Dado un conjunto finito no vacío $V$, y un conjunto de pares ordenados $A$ en $V \\times V$, el par ordenado $(V, A)$ se denomina un grafo dirigido o digrafo. En esta representación, $V$ es el conjunto de vértices o nodos, y $A$ es el conjunto de aristas. Usamos la notación $G = (V, A)$ para denotar un digrafo de este tipo.\n",
    "\n",
    "Un grafo dirigido es un par $(V, A)$ donde $V$ es un conjunto finito al que llamamos conjunto de vértices y $A$ es un subconjunto de $V × V$ al que llamamos conjunto de aristas.\n",
    "Un grafo no dirigido (también llamado simplemente grafo) es un par $(V, A)$ donde $V$ es un conjunto finito y $E ⊂ V ·V$. Las aristas de la forma ${x, x} = {x}$ se denominan lazos\n",
    "En general, usaremos la notación $G = (V, A)$ tanto para grafos dirigidos como para grafos no dirigidos. Escribimos también en este caso $V (G) = V y E(G) = E$.\n",
    "Decimos que dos vértices $x$ e $y$ de un grafo $G$ (no dirigido) son adyacentes si ${x, y}$ es una arista del grafo.\n",
    "Una arista del tipo ${x}$ (o $(x, x)$ para el caso dirigido) se dice lazo.\n",
    "Dado un grafo $G = (V, A)$ sin lazos y un vértice $v ∈ V$ , el grado de $v$ se define como $gr(v) = #${$w ∈ V | v y w$ son adyacentes}\n",
    "\n",
    "\n",
    "### No Dirigidos\n",
    "(Aporte de Fran)\n",
    "\n",
    "Por el contrario, cuando la dirección de las aristas no importa, la estructura G = (V,E), donde ahora E es un conjunto de pares no ordenados sobre V, G es un grafo no dirigido. En este tipo de grafos, una arista {a,b} representa a {{a,b}, {b,a}}, en el caso particular que a = b, entonces {a,b} = {b,a}\n",
    "Como nota final, si un grafo no es especificado como dirigido, se entiende que es dirigido. \n",
    "\n",
    "\n",
    "## Referencia \n",
    "- [INAOE. Ciencias Computacionales Capitulo 10: Grafos](https://posgrados.inaoep.mx/archivos/PosCsComputacionales/Curso_Propedeutico/Programacion_Estructuras_Datos/Capitulo_10_Grafos.pdf)\n",
    "- [Grimaldi, Matemática Discreta](https://dokumen.tips/documents/matematicas-discreta-y-combinatoria-ralph-grimaldiwwwfreelibroscom.html?page=941)"
   ]
  }
 ],
 "metadata": {
  "language_info": {
   "name": "python"
  },
  "orig_nbformat": 4
 },
 "nbformat": 4,
 "nbformat_minor": 2
}
