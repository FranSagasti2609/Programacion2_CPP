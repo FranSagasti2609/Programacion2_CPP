{
 "cells": [
  {
   "cell_type": "markdown",
   "metadata": {},
   "source": [
    "# Clases en C ++\n",
    "Material Preparado por Francisco Sagasti\n",
    "\n",
    "Programacion 2, 2023, Cerp SW\n",
    "\n",
    "## Que es una clase? >> Atributos y Miembros\n",
    "Dentro de la POO aparece el concepto de clases: es un tipo de dato definido por el programador, el cual encapsula datos (miembros/atributos) y funciones que le dan comportamiento y manejo de datos (metodos). \n",
    "Cuando se crea una instancia a un tipo de dato definido, como \"int x\" se crea una variable de cierto tipo, en este caso es distinto, ya que una instancia de una clase es un objeto.\n",
    "\n",
    "## Clase Vs Struct\n",
    "Las clases son similares a una estructura, ya que ambos son colecciones de variables, solo que las clases \"evolucionan\" y contienen mencionadas funciones que manipulan los datos. \n",
    "Sin embargo, las clases tienen un concepto nuevo: acceso a miembro. Por defecto, los miembros son private (privados), asi, solo pueden ser accedidos y modificados dentro de la clase, como? mediante metodos, pero podemos mediante \"public:\" hacerlos publicos, y poder trabajar con ellos como si de una struct se tratase.\n",
    "\n",
    "## Constructores\n",
    "Hay una funcion miembro especial, llamada constructores, llamada de la misma manera que la clase, la cual nos permite inicializar los valores de los miembros de cierta manera (y no default). El programador es el encargado de crearlo.\n",
    "\n",
    "## Deconstructores\n",
    "Es un método especial que deconstruye-libera los recursos que son asignados al crear un objeto (instancia de clase). Con esto se puede reasignar y almacenar nuevos objetos. No recibe parametros y no devuelve nada, cada \"class\" solo tendrá un deconstructor.\n",
    "Se escriben con el signo ~\n",
    "## Bibliografia\n",
    "[Deitel. \"Como Programar C/C++ y Java\".](https://www.waltercarnero.com/isft177/programacion1/Libros/deitel.pdf) "
   ]
  },
  {
   "cell_type": "code",
   "execution_count": null,
   "metadata": {},
   "outputs": [],
   "source": [
    "class \"Nombre_Clase\"{\n",
    "    public:\n",
    "        //Declaracion de elementos (atributos y metodos) publicos\n",
    "\n",
    "    private:\n",
    "        //Declaracion de elementos (atributos y metodos) privados\n",
    "\n",
    "    //Declaracion de Constructor de la clase\n",
    "        Nombre_Clase(argumentos....){\n",
    "\n",
    "        }\n",
    "\n",
    "    //Declaracion de Deconstructor de la class\n",
    "    ~\"Nombre_Clase()\";\n",
    "\n",
    "};"
   ]
  }
 ],
 "metadata": {
  "language_info": {
   "name": "python"
  },
  "orig_nbformat": 4
 },
 "nbformat": 4,
 "nbformat_minor": 2
}
