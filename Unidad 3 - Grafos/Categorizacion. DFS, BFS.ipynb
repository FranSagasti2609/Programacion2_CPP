{
 "cells": [
  {
   "cell_type": "markdown",
   "metadata": {},
   "source": [
    "## Categorizacion de Grafos"
   ]
  },
  {
   "cell_type": "markdown",
   "metadata": {},
   "source": [
    "### Simples\n",
    "Un grafo es simple cuando existe a lo sumo una arista conectando cada par de vertices. Es decir, si un vertice esta en bucle (tiene una arista con si mismo), o bien hay dos aristas entre dos vertices, ya no es simple"
   ]
  },
  {
   "cell_type": "code",
   "execution_count": null,
   "metadata": {},
   "outputs": [],
   "source": [
    "#Grafo Simple en C++\n",
    "bool Grafo:: esSimple(){\n",
    "  /*\n",
    "Si un vertice tiene mas de 1 adyacentes o salientes no es simple\n",
    "Si un vertice se conecta con si mismo ya no es simple.\n",
    "  */\n",
    "  \n",
    "  //\"Para cada elemento de mi lista de adyacencia....\"\n",
    "  for(const auto &entrada :listaDeAdyacencia){\n",
    "    Estudiante v = entrada.first;\n",
    "\n",
    "    //Verificamos si el grafo se conecta a si mismo. (bucle)\n",
    "    for(const auto &par : listaDeAdyacencia[v]){\n",
    "      if(par.first==v){\n",
    "        std::cout << \"Un vertice tiene un bucle. No es simple.\" << std::endl;\n",
    "        return false;\n",
    "      } \n",
    "    }\n",
    "\n",
    "    //Verificamos si un vertice tiene mas de 2 adyacentes.\n",
    "    if(listaDeAdyacencia[v].size() >1 ){\n",
    "        std::cout << \"Hay un vertice que tiene mas de 1 adyacente. No es simple.\" << std::endl;\n",
    "        return false;\n",
    "    }\n",
    "  }\n",
    "  //Sino hay problemas es simple\n",
    "  std::cout << \"El grafo es simple.\" << std::endl;\n",
    "  return true;\n",
    "}"
   ]
  },
  {
   "cell_type": "markdown",
   "metadata": {},
   "source": [
    "### Conexos\n",
    "Un grafo es conexo cuando cada par de vertices estan conectado por un camino, es decir que para todo par de vertices (a,b) existe una arista que los conecte.\n",
    "Para implementarlos en C++ una manera es utilizar DFS, el cual desarrollaremos mas abajo.\n",
    "\n",
    "El proceso resumido consiste en esto: Contaremos los vertices que tiene nuestro map (el map almacena TODOS los vertices, no importa si hay aristas que lo conectan), y luego mediante una busqueda DFS veremos si la cantidad concide. DFS nos devolvera la cantidad de grafos que recorre de forma \"continua\", de vertices conectados por caminos.\n",
    "Asi.. si tengo 23 vertices en total, y hay 19 conectados, significa que hay vertices que no tienen caminos para unirse."
   ]
  },
  {
   "cell_type": "markdown",
   "metadata": {},
   "source": [
    "### Que es DFS? Como implementarlo?\n",
    "\n",
    "DFS, por las siglas Depth First Search o busqueda en profundidad (en espaniol) es un algoritmo de busqueda para el cual se recorre los nodos de un grafo. Su funcionamiento consiste en ir expandiendo todos sus nodos y localizar un camino entre ellos para recorrerlos. Cuando ya no hay nodos en un camino, se regresa a un punto donde puede ir a otro y volver a recorrer los caminos vecinos.\n",
    "\n",
    "Pensemos esto con un ejemplo cotidiano, si entro a una calle con salida, volvere al punto donde pueda ir a otra calle (\"camino\" del grafo). Y seguire recorriendo, si vuelvo a entrar a otra calle sin salida vuelvo hacia atras, y asi sucevimanete hasta completar los caminos posibles (todos los vertices fueron recorridos).\n",
    "\n",
    "<img src=\"DFS.PNG\" height = 250px width = 300px>\n",
    "\n",
    "### Implementacion como una funcion:\n",
    "Este codigo fue extraido de https://www.encora.com/es/blog/dfs-vs-bfs\n",
    "Tendra comentarios entendidos por el autor del cuaderno :p"
   ]
  },
  {
   "cell_type": "code",
   "execution_count": null,
   "metadata": {},
   "outputs": [],
   "source": [
    "void DFS(Grafo &g,int s){\n",
    "    //Recibe la direccion de memoria de un grafo y un entero S, entiendo que es entero por que los vertices son enteros. En nuestro caso seria un Estudiante.\n",
    "    nodoVisitado[s]=true;\n",
    "    procesarNodo(s); //Esta funcion es externa al codigo que se muestra. Segun la salida en pantalla del autor, esta funcion muestra el nodo S.\n",
    "    list<int>::iterator it;\n",
    "\n",
    "    //Se recorre el grafo mediante un iterador\n",
    "    for(it=g.lados[s].begin(); it!=g.lados[s].end(); it++){\n",
    "        if(!nodoVisitado[*it]){\n",
    "            nodoPadre[*it]=s;\n",
    "            DFS(g,*it);\n",
    "        }else if(!nodoProcesado[*it]){\n",
    "            procesarLado(s,*it);\n",
    "        }\n",
    "    }\n",
    "    nodoProcesado[s]=true;\n",
    "}"
   ]
  },
  {
   "cell_type": "markdown",
   "metadata": {},
   "source": [
    "### Implementacion como metodo de una class \"Grafo\":"
   ]
  },
  {
   "cell_type": "code",
   "execution_count": null,
   "metadata": {},
   "outputs": [],
   "source": [
    "//En el archivo .cpp:\n",
    "\n",
    "void Grafo::DFS(Estudiante raiz, std::set <Estudiante>& visitados){\n",
    "  //Agrego mi vertice raiz al conjunto\n",
    "  visitados.insert(raiz);\n",
    "\n",
    "  //Recorro la lista de adyacencia del grafo\n",
    "  for(const auto &elem : listaDeAdyacencia[raiz]){\n",
    "    Estudiante adyacente = elem.first; //Declaro un estudiante \"adyacente\", cada uno del grafo\n",
    "    \n",
    "    /*Si el estudiante actual NO esta en mi conjunto vuelvo a llamar esta funcion.\n",
    "    Tomo al nodo adyacente como raiz, y sigo trabajando con mi conjunto */\n",
    "    if(visitados.find(adyacente) == visitados.end()){\n",
    "      DFS(adyacente, visitados);\n",
    "    }\n",
    "  }\n",
    "  \n",
    "}\n",
    "\n",
    "//En el archivo .hpp:\n",
    " virtual void DFS(Estudiante raiz, std::set <Estudiante>& nodosVisitados);"
   ]
  },
  {
   "cell_type": "markdown",
   "metadata": {},
   "source": [
    "### Completos\n",
    "Si existen aristas uniendo todos los pares posibles de vertices, entonces el grafo es completo. Una formula matematica establece que para n vertices habra n(n-1)/2 aristas.\n",
    "Para implementarlo en C++ podemos usar esta relacion para saber si mi grafo es completo, viendo en base a mis N vertices si tengo esas aristas."
   ]
  },
  {
   "cell_type": "code",
   "execution_count": null,
   "metadata": {},
   "outputs": [],
   "source": [
    "bool Grafo::esCompleto(){\n",
    "  //Determino si se cumple la relacion Cantidad Vertices - Cantidad aristas\n",
    "  int cantidad_vertices = listaDeAdyacencia.size();\n",
    "  int cantidad_aristas = 0;\n",
    "\n",
    "  for (const auto& entrada : listaDeAdyacencia) {\n",
    "        cantidad_aristas += entrada.second.size();\n",
    "    }\n",
    "\n",
    "    // Calcular el número máximo de aristas en un grafo completo\n",
    "    int numMaximoAristas = cantidad_vertices * (cantidad_vertices - 1) / 2;\n",
    "\n",
    "    // Comparar el número de aristas con el número máximo de aristas\n",
    "    if(cantidad_aristas == numMaximoAristas){\n",
    "      std::cout << \"Grafo completo.\" <<std::endl;\n",
    "      return true;\n",
    "    } else{\n",
    "      std::cout << \"Grafo incompleto.\" <<std::endl;\n",
    "      return false;\n",
    "    }\n",
    "\n",
    "}"
   ]
  },
  {
   "cell_type": "markdown",
   "metadata": {},
   "source": [
    "### Regulares\n",
    "Un grafo es regular cuando todos sus vertices tienen el mismo grado, es decir, todo vertice tiene el mismo numero de aristas incidentes. \n",
    "\n",
    "EJ: A todos los vertices les inciden y salen 1 arista, o 2...\n",
    "Para verificar si un grafo es regular basta comparar los grados de todos los vertices, si son iguales es regular."
   ]
  },
  {
   "cell_type": "code",
   "execution_count": null,
   "metadata": {},
   "outputs": [],
   "source": [
    "bool Grafo::esRegular(){\n",
    "    // Calcula el grado del primer vértice en el grafo.\n",
    "  //Accedo a mi primer vertice, veo el tamanio de la lista de vertices (adyacentes)\n",
    "    int grado = listaDeAdyacencia.begin()->second.size();\n",
    "\n",
    "    // Itera a través de los vértices y compara sus grados con el grado del primer vértice.\n",
    "    for (const auto& entrada : listaDeAdyacencia) {\n",
    "        if (entrada.second.size() != grado) {\n",
    "          std::cout << \"El grafo no es regular.\" << std::endl;\n",
    "            return false; \n",
    "        } else {\n",
    "            // Si todos los vértices tienen el mismo grado, el grafo se considera regular.\n",
    "            std::cout << \"El grafo es regular.\" << std::endl;\n",
    "            return true;\n",
    "          }\n",
    "    } \n",
    "}"
   ]
  },
  {
   "cell_type": "markdown",
   "metadata": {},
   "source": [
    "### BFS\n",
    "Es un algoritmo de busqueda en el cual se recorren los vertices de un grafo, comenzando por uno \"raiz\" (el programador lo elije), para luego explorar los vertices vecinos. Se exploran sus adyacentes asi hasta recorrer todo el grafo. \n",
    "Veamos una imagen:\n",
    "\n",
    "<img src =\"BFS.PNG\" height = 250px width = 300px>\n",
    "\n",
    "Aqui el vertice raiz es el 1, luego vamos al 2, se recorre este y luego al 3, ya que son adyacentes (ambos derivan del 1). Asi sucesivamente\n",
    "Visualmente \"van por niveles\".\n",
    "\n",
    "#### Implementacion en una funcion"
   ]
  },
  {
   "cell_type": "code",
   "execution_count": null,
   "metadata": {},
   "outputs": [],
   "source": [
    "void BFS(grafo &g,int s){\n",
    "    int v;\n",
    "    queue<int> cola;\n",
    "    list<int>::iterator it;\n",
    "\n",
    "    nodoVisitado[s]=true;\n",
    "    cola.push(s);\n",
    "    while(!cola.empty()){\n",
    "        v=cola.front(),cola.pop();\n",
    "        nodoProcesado[v]=true;\n",
    "        procesarNodo(v);\n",
    "        for(it=g.lados[v].begin(); it!=g.lados[v].end(); ++it){\n",
    "            if(!nodoVisitado[*it]){\n",
    "                cola.push(*it),nodoVisitado[*it]=true;\n",
    "                nodoPadre[*it]=v;\n",
    "            }\n",
    "            if(!nodoProcesado[*it]) {\n",
    "                procesarLado(v,*it);\n",
    "            }\n",
    "        }\n",
    "    }\n",
    "}"
   ]
  }
 ],
 "metadata": {
  "language_info": {
   "name": "python"
  }
 },
 "nbformat": 4,
 "nbformat_minor": 2
}
